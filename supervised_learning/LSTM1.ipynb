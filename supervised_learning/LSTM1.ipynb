{
 "cells": [
  {
   "cell_type": "code",
   "execution_count": 1,
   "metadata": {},
   "outputs": [],
   "source": [
    "from sklearn.datasets import fetch_20newsgroups\n",
    "newsgroups_train = fetch_20newsgroups(subset='train', remove=('headers', 'footers', 'quotes'))\n",
    "newsgroups_test = fetch_20newsgroups(subset='test', remove=('headers', 'footers', 'quotes'))"
   ]
  },
  {
   "cell_type": "code",
   "execution_count": 2,
   "metadata": {},
   "outputs": [
    {
     "name": "stdout",
     "output_type": "stream",
     "text": [
      "the 20 newsgroups by date dataset\n"
     ]
    }
   ],
   "source": [
    "# display data description\n",
    "print(newsgroups_train.description)"
   ]
  },
  {
   "cell_type": "code",
   "execution_count": 3,
   "metadata": {},
   "outputs": [
    {
     "data": {
      "text/plain": [
       "['alt.atheism',\n",
       " 'comp.graphics',\n",
       " 'comp.os.ms-windows.misc',\n",
       " 'comp.sys.ibm.pc.hardware',\n",
       " 'comp.sys.mac.hardware',\n",
       " 'comp.windows.x',\n",
       " 'misc.forsale',\n",
       " 'rec.autos',\n",
       " 'rec.motorcycles',\n",
       " 'rec.sport.baseball',\n",
       " 'rec.sport.hockey',\n",
       " 'sci.crypt',\n",
       " 'sci.electronics',\n",
       " 'sci.med',\n",
       " 'sci.space',\n",
       " 'soc.religion.christian',\n",
       " 'talk.politics.guns',\n",
       " 'talk.politics.mideast',\n",
       " 'talk.politics.misc',\n",
       " 'talk.religion.misc']"
      ]
     },
     "execution_count": 3,
     "metadata": {},
     "output_type": "execute_result"
    }
   ],
   "source": [
    "# categories\n",
    "newsgroups_train.target_names"
   ]
  },
  {
   "cell_type": "code",
   "execution_count": 4,
   "metadata": {},
   "outputs": [
    {
     "name": "stdout",
     "output_type": "stream",
     "text": [
      "DATA : \n",
      "I apologize if this article is slightly confusing, and late. The origonal\n",
      "draft didn't make it through the moderators quote-screens. So I did\n",
      "violence to it, but if you remember the article I am responding\n",
      "to it should still make sence.\n",
      "\n",
      "\n",
      "What, no hello for heathan netters?\n",
      "\n",
      "I feel all left out now. :(\n",
      "\n",
      "[deletia- table of content, intro, homosexuality]\n",
      "\n",
      "\n",
      "[deletia- incorrect attributions]\n",
      "\n",
      "Uh, you have your attributions wrong, you were responding\n",
      "to my article, so Dan Johnson should be the 1st one.\n",
      "\n",
      "\n",
      "[deletia- no free gifts speil nuked by moderator fiat.]\n",
      "\n",
      "\n",
      "Ah, in the _cosmic_ sence.. but who lives in the cosmic sence?\n",
      "Not me! Cosmicly, we don't even exist for all practical purposes.\n",
      "I can hardly use the Cosmic Sence Of Stuff as a guide to life.\n",
      "It would just say: \"don't bother.\"\n",
      "\n",
      "Luckily for mortals, there are many sences of scale you can talk\n",
      "about. In a human sence, you can have big purposes.\n",
      "\n",
      "\n",
      "But the influence of Aristotle, Confucious, Alexander, Ceasar and\n",
      "countless others is still with us, although their works have perished.\n",
      "\n",
      "But they have changed to course of history, and while humanity exists,\n",
      "their deeds cannot be said to have come to nothing, even if they\n",
      "are utterly forgotten.\n",
      "\n",
      "\n",
      "One day, surely. (well, unless you believe in the Second Coming, which\n",
      "I do not)\n",
      "\n",
      "But in that time we can make a difference.\n",
      "\n",
      "\n",
      "In the end. But it must be the end; until then, there is all the\n",
      "point you can muster. And when that end comes, there will be nobody\n",
      "to ask, \"Gee, I don't think James Sledd's deeds are gonna make\n",
      "much of a difference, ulitmately, ya know?\".\n",
      "\n",
      "But they will have already have made a difference, great or small,\n",
      "before the end.\n",
      "\n",
      "Why must your ends be eternal to be worthwhile?\n",
      "\n",
      "\n",
      "Little is in the eye of the beholder, of course.\n",
      "\n",
      "\n",
      "I don't doubt it. But I have thought about the cosmic scale. And\n",
      "it does not seem to mean much to us, here, today.\n",
      "\n",
      "\n",
      "I would not find this comforting. But perhaps it is merely my\n",
      "definitions. Here's what I think the relevant terms are:\n",
      "\n",
      "\"Reality\"\tThat which is real.\n",
      "\"Illusion\"\tThat which is not real, but seems to be.\n",
      "\"Real\"\t\tObjectively Existing\n",
      "\n",
      "For \"reality\" to be an \"illusion\" would mean, then:\n",
      "\n",
      "That which is real is not real, but seems to be.\n",
      "\n",
      "Or:\n",
      "\n",
      "That which objectively exists, does not objectively exist, but\n",
      "does seem to objectively exist.\n",
      "\n",
      "From which we can conclude, that unless you want to get a\n",
      "contradiction, that no things objectively exist.\n",
      "\n",
      "But I have a problem with this because I would like to say\n",
      "that *I* objectively exist, if nothing else. Cogito Ergo Sum\n",
      "and all that.\n",
      "\n",
      "Perhaps you do not mean all that, but rather mean:\n",
      "\"Objective Reality is Unreachable by humans.\"\n",
      "\n",
      "Which is not so bad, and so far as I know is true.\n",
      "\n",
      "\n",
      "Have on. If reality is an illusion, isn't True Reality an illusion\n",
      "too? And if True Reality is spirit, doens't that make Spirit an Illusion\n",
      "as well?\n",
      "\n",
      "If I am not distinctly confused, this is getting positively Buddhist.\n",
      "\n",
      "\n",
      "That is one hell of a statement, although perhaps true.\n",
      "\n",
      "Do you mean to imply that it was *intended* to be so? If so,\n",
      "please show that this is true. If not, please explain how this\n",
      "can give a purpose to anything.\n",
      "\n",
      "\n",
      "How does it do that?\n",
      "\n",
      "Wouldn't the world=school w/ intent idea make the world a preparation for\n",
      "some *greater* purpose, rather than a purpose in itself.\n",
      "\n",
      "\n",
      "What pressure?\n",
      "\n",
      "\n",
      "It is not necessary to be a success in human terms, unless your\n",
      "goals either include doing so or require doing so before they\n",
      "themselves can be achived.\n",
      "\n",
      "Indeed, many people have set goals for themselves that\n",
      "do not include success in human terms as _I_ understand it. Check\n",
      "out yer Buddhist monk type guy. Out for nirvana, which is not\n",
      "at all the same thing.\n",
      "\n",
      "\n",
      "Why is learning to love a goal? What happens if you fail in this\n",
      "goal? To you? To God? To the mysterious Purpose?\n",
      "\n",
      "\n",
      "[deletia- question about immortailty and my answer deleted because it was\n",
      " mostly quote.]\n",
      "\n",
      "\n",
      "I'll have a crack at that.\n",
      "\n",
      "(1) The nature of eternal life is neatly described by its name: It is\n",
      "the concept of life without death, life without end.\n",
      "\n",
      "(2) No. We can put together word to describe it, but we cannot imagine it.\n",
      "\n",
      "(2a) No metaphor is adequate next to eternity; if it were we could not\n",
      "understand it either. (or so I suspect)\n",
      "---\n",
      "\t\t\t- Dan Johnson\n",
      "And God said \"Jeeze, this is dull\"... and it *WAS* dull. Genesis 0:0\n",
      "\n",
      "LABEL : \n",
      "soc.religion.christian\n"
     ]
    }
   ],
   "source": [
    "# sample data\n",
    "sample_ind = 203\n",
    "print(\"DATA : \")\n",
    "print(newsgroups_train.data[sample_ind])\n",
    "print(\"\")\n",
    "print(\"LABEL : \")\n",
    "print(newsgroups_train.target_names[newsgroups_train.target[sample_ind]])"
   ]
  },
  {
   "cell_type": "markdown",
   "metadata": {},
   "source": [
    "1. Training a word vector generation model(word embedding)"
   ]
  },
  {
   "cell_type": "code",
   "execution_count": 5,
   "metadata": {},
   "outputs": [],
   "source": [
    "def read_data(comments):\n",
    "    raw_word_list = []\n",
    "    \n",
    "    pass"
   ]
  },
  {
   "cell_type": "code",
   "execution_count": 6,
   "metadata": {},
   "outputs": [],
   "source": [
    "import nltk"
   ]
  },
  {
   "cell_type": "code",
   "execution_count": 7,
   "metadata": {},
   "outputs": [
    {
     "name": "stdout",
     "output_type": "stream",
     "text": [
      "showing info https://raw.githubusercontent.com/nltk/nltk_data/gh-pages/index.xml\n"
     ]
    },
    {
     "data": {
      "text/plain": [
       "True"
      ]
     },
     "execution_count": 7,
     "metadata": {},
     "output_type": "execute_result"
    }
   ],
   "source": [
    "nltk.download()"
   ]
  },
  {
   "cell_type": "code",
   "execution_count": null,
   "metadata": {},
   "outputs": [],
   "source": []
  }
 ],
 "metadata": {
  "kernelspec": {
   "display_name": "tensorflow",
   "language": "python",
   "name": "tensorflow"
  },
  "language_info": {
   "codemirror_mode": {
    "name": "ipython",
    "version": 3
   },
   "file_extension": ".py",
   "mimetype": "text/x-python",
   "name": "python",
   "nbconvert_exporter": "python",
   "pygments_lexer": "ipython3",
   "version": "3.5.4"
  }
 },
 "nbformat": 4,
 "nbformat_minor": 2
}
